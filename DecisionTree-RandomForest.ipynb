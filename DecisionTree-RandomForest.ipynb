{
 "cells": [
  {
   "cell_type": "markdown",
   "id": "a71a2a9d",
   "metadata": {},
   "source": [
    "ابتدا داده ها را می خوانیم و آن را داخل متغییر می ریزیم "
   ]
  },
  {
   "cell_type": "code",
   "execution_count": 4,
   "id": "74caee3d",
   "metadata": {},
   "outputs": [],
   "source": [
    "import pandas as pd\n",
    "data = pd.read_csv(\"covtype.csv\") #reading the data"
   ]
  },
  {
   "cell_type": "markdown",
   "id": "21f43e3d",
   "metadata": {},
   "source": [
    "سپس داده ها را جدا کرده، به این صورت که ۵۴ ستون اول را در یک متغییر و ستون آخر را در یک متغییر میریزیم"
   ]
  },
  {
   "cell_type": "code",
   "execution_count": 5,
   "id": "0e01c8c7",
   "metadata": {},
   "outputs": [],
   "source": [
    "X = data.iloc[:, :-1] #fist 54 columns with all rows\n",
    "y = data.iloc[:, -1] #last column with all rows (the answer column)"
   ]
  },
  {
   "cell_type": "markdown",
   "id": "9be3f96c",
   "metadata": {},
   "source": [
    "حال ۱۰ ستون اول داده ها را که نرمال نیستند، نرمالایز می کنیم"
   ]
  },
  {
   "cell_type": "code",
   "execution_count": 6,
   "id": "c800b1f0",
   "metadata": {},
   "outputs": [],
   "source": [
    "from sklearn import preprocessing\n",
    "norm_X = X.copy()\n",
    "norm_X.iloc[:, :10] = preprocessing.normalize(X.iloc[:, 0:10]) #normalizing first 10 columns of X"
   ]
  },
  {
   "cell_type": "markdown",
   "id": "8dee15b6",
   "metadata": {},
   "source": [
    "سپس داده ها را یک بر می زنیم و به صورت ۳۰-۷۰ آنها را بین داده های یادگیری و تست، تقسیم می کنیم"
   ]
  },
  {
   "cell_type": "code",
   "execution_count": 7,
   "id": "99885965",
   "metadata": {},
   "outputs": [],
   "source": [
    "from sklearn.model_selection import train_test_split\n",
    "nX_train, nX_test, y_train, y_test = train_test_split(norm_X, y, test_size = 0.3, stratify = y)"
   ]
  },
  {
   "cell_type": "markdown",
   "id": "c684b0f0",
   "metadata": {},
   "source": [
    "حال ۱۲ حالت را برای الگوریتم امتحان می کنیم:\n",
    "\n",
    "n_estimators = [80, 100, 120]\n",
    "\n",
    "max_feature = [5, 7]\n",
    "\n",
    "criterion = [\"gini\", \"entropy\"]\n",
    "\n",
    "در اینجا با استفاده از داده های  یادگیری، این حالت ها را با الگوریتم روش جنگل تصادفی و محاسبه ارزش ها به وسیله اعتبار سنجی متقابل ۵ برابر، محاسبه می کنیم.\n",
    "( به خاطر به هم نریختن جمله ها مجبور شدم از اصطلاحات فارسی استفاده کنم )"
   ]
  },
  {
   "cell_type": "code",
   "execution_count": 6,
   "id": "6c2c85dc",
   "metadata": {},
   "outputs": [
    {
     "name": "stdout",
     "output_type": "stream",
     "text": [
      "0\n",
      "1\n",
      "2\n",
      "3\n",
      "4\n",
      "5\n",
      "6\n",
      "7\n",
      "8\n",
      "9\n",
      "10\n",
      "11\n"
     ]
    }
   ],
   "source": [
    "from sklearn.model_selection import cross_val_score\n",
    "from sklearn.ensemble import RandomForestClassifier\n",
    "import numpy as np\n",
    "est = [80, 100, 120]\n",
    "max_feature = [5, 7]\n",
    "cri = [\"gini\", \"entropy\"]\n",
    "scores = np.zeros(12)\n",
    "i=0;\n",
    "for a in est:\n",
    "    for b in max_feature:\n",
    "        for c in cri:\n",
    "            print(i)\n",
    "            RFC = RandomForestClassifier(n_estimators = a, max_features = b, criterion = c)\n",
    "            score = cross_val_score(RFC, nX_train, y_train, cv = 5)\n",
    "            scores[i] = np.mean(score)\n",
    "            i = i+1"
   ]
  },
  {
   "cell_type": "markdown",
   "id": "faf80b20",
   "metadata": {},
   "source": [
    "حال نمره ها را خروجی می دهیم تا بررسی کنیم که کدام حالت برای این داده ها با این الگوریتم مناسب تر است."
   ]
  },
  {
   "cell_type": "code",
   "execution_count": 7,
   "id": "5fa920e4",
   "metadata": {},
   "outputs": [
    {
     "name": "stdout",
     "output_type": "stream",
     "text": [
      "[0.9468759  0.94751518 0.94791104 0.94930762 0.94671362 0.94784219\n",
      " 0.94821346 0.94948956 0.94710456 0.94824789 0.94867571 0.94974528]\n"
     ]
    }
   ],
   "source": [
    "print(scores)"
   ]
  },
  {
   "cell_type": "markdown",
   "id": "2ddbbc66",
   "metadata": {},
   "source": [
    "به دلیل طولانی بودن زمان ران شدن سلول کد شماره ۵، نمودار خروجی ندارد اما کد زمیمه می شود\n",
    "\n",
    "و مشخصا همه ارزش ها نزدیک هم هستند و حالت آخر ارزش بیشتری دارد."
   ]
  },
  {
   "cell_type": "code",
   "execution_count": 15,
   "id": "5f3c135d",
   "metadata": {
    "collapsed": true
   },
   "outputs": [
    {
     "ename": "NameError",
     "evalue": "name 'scores' is not defined",
     "output_type": "error",
     "traceback": [
      "\u001b[1;31m---------------------------------------------------------------------------\u001b[0m",
      "\u001b[1;31mNameError\u001b[0m                                 Traceback (most recent call last)",
      "Cell \u001b[1;32mIn[15], line 2\u001b[0m\n\u001b[0;32m      1\u001b[0m \u001b[38;5;28;01mimport\u001b[39;00m \u001b[38;5;21;01mmatplotlib\u001b[39;00m\u001b[38;5;21;01m.\u001b[39;00m\u001b[38;5;21;01mpyplot\u001b[39;00m \u001b[38;5;28;01mas\u001b[39;00m \u001b[38;5;21;01mplt\u001b[39;00m\n\u001b[1;32m----> 2\u001b[0m plt\u001b[38;5;241m.\u001b[39mplot(\u001b[43mscores\u001b[49m, [\u001b[38;5;241m1\u001b[39m, \u001b[38;5;241m2\u001b[39m, \u001b[38;5;241m3\u001b[39m, \u001b[38;5;241m4\u001b[39m, \u001b[38;5;241m5\u001b[39m, \u001b[38;5;241m6\u001b[39m, \u001b[38;5;241m7\u001b[39m, \u001b[38;5;241m8\u001b[39m, \u001b[38;5;241m9\u001b[39m, \u001b[38;5;241m10\u001b[39m, \u001b[38;5;241m11\u001b[39m, \u001b[38;5;241m12\u001b[39m])\n\u001b[0;32m      3\u001b[0m plt\u001b[38;5;241m.\u001b[39mshow()\n",
      "\u001b[1;31mNameError\u001b[0m: name 'scores' is not defined"
     ]
    }
   ],
   "source": [
    "import matplotlib.pyplot as plt\n",
    "plt.plot(scores, [1, 2, 3, 4, 5, 6, 7, 8, 9, 10, 11, 12])\n",
    "plt.show()"
   ]
  },
  {
   "cell_type": "markdown",
   "id": "ffe96dca",
   "metadata": {},
   "source": [
    "طبق نتایج بدست آمده، همه حالت ها تقریبا نزدیک هم هستند اما بهترین حالت برابر است با:\n",
    "\n",
    "n_estimators = 120, max_features = 7, criterion = \"entropy\"\n",
    "\n",
    "n_estimators =تعداد داده ها\n",
    "\n",
    "max_features = بیشترین تعداد ستون که می توان از داده های آنها استفاده کرد\n",
    "\n",
    "criterion = معیاری برای برازش تقسیم بندی"
   ]
  },
  {
   "cell_type": "code",
   "execution_count": 9,
   "id": "1f05aacd",
   "metadata": {},
   "outputs": [
    {
     "name": "stdout",
     "output_type": "stream",
     "text": [
      "0.9399347893270928\n"
     ]
    }
   ],
   "source": [
    "import numpy as np\n",
    "RFC = RandomForestClassifier(n_estimators = 20, max_features = 5, criterion = \"gini\")\n",
    "score = cross_val_score(RFC, nX_train, y_train, cv = 5)\n",
    "print(np.mean(score))"
   ]
  },
  {
   "cell_type": "code",
   "execution_count": 10,
   "id": "4871f126",
   "metadata": {},
   "outputs": [],
   "source": [
    "from sklearn.ensemble import RandomForestClassifier\n",
    "from sklearn.model_selection import cross_val_score\n",
    "RFC = RandomForestClassifier(n_estimators = 120, max_features = 7, criterion = \"entropy\")\n",
    "score = cross_val_score(RFC, nX_train, y_train, cv = 5)"
   ]
  },
  {
   "cell_type": "markdown",
   "id": "42a89bcc",
   "metadata": {},
   "source": [
    "حال اعتبار حالت آخر را دوباره حساب کرده و خروجی می دهیم و آن را در\n",
    "\n",
    "RFC\n",
    "\n",
    "نگه می داریم"
   ]
  },
  {
   "cell_type": "code",
   "execution_count": 11,
   "id": "ebcac9ad",
   "metadata": {},
   "outputs": [
    {
     "name": "stdout",
     "output_type": "stream",
     "text": [
      "0.9504927340210527\n"
     ]
    }
   ],
   "source": [
    "import numpy as np\n",
    "print(np.mean(score))"
   ]
  },
  {
   "cell_type": "markdown",
   "id": "9b236518",
   "metadata": {},
   "source": [
    "حال یک تابع به داده های یادگیری برازش می دهیم و سپس داده های تست را امتحان می کنیم. مشخص می شود که این تابع، ۹۵.۵۶ درصد، روی داده های تست به درستی کلاس بندی می کنید.\n",
    "\n",
    "بنابراین:\n",
    "\n",
    "accuracy = 0.9556"
   ]
  },
  {
   "cell_type": "code",
   "execution_count": 12,
   "id": "57c0bb53",
   "metadata": {},
   "outputs": [
    {
     "data": {
      "text/plain": [
       "0.9556923535891316"
      ]
     },
     "execution_count": 12,
     "metadata": {},
     "output_type": "execute_result"
    }
   ],
   "source": [
    "from sklearn.metrics import accuracy_score\n",
    "RFC.fit(nX_train, y_train)\n",
    "y_prediction = RFC.predict(nX_test)\n",
    "\n",
    "acc = accuracy_score(y_prediction, y_test)\n",
    "acc"
   ]
  },
  {
   "cell_type": "markdown",
   "id": "2225b92c",
   "metadata": {},
   "source": [
    "حال ماتریس در هم ریختگی را بدست آورده که درستی کلاس بندی داده های پیش بینی را نسبت به داده های تست ما بررسی می کند"
   ]
  },
  {
   "cell_type": "code",
   "execution_count": 13,
   "id": "e882a77b",
   "metadata": {},
   "outputs": [
    {
     "data": {
      "text/plain": [
       "array([[60177,  3212,     1,     0,    17,     9,   136],\n",
       "       [ 1979, 82628,   150,     4,   112,    95,    23],\n",
       "       [    1,   157, 10314,    42,     7,   205,     0],\n",
       "       [    0,     2,   108,   684,     0,    30,     0],\n",
       "       [   53,   459,    42,     0,  2286,     8,     0],\n",
       "       [    3,   205,   340,    18,     8,  4636,     0],\n",
       "       [  240,    55,     0,     0,     2,     0,  5856]], dtype=int64)"
      ]
     },
     "execution_count": 13,
     "metadata": {},
     "output_type": "execute_result"
    }
   ],
   "source": [
    "from sklearn.metrics import confusion_matrix\n",
    "per_metrics = confusion_matrix(y_test, y_prediction)\n",
    "per_metrics"
   ]
  },
  {
   "cell_type": "markdown",
   "id": "93124c7d",
   "metadata": {},
   "source": [
    "مثلا در سطر اول و ستون اول، ۶۰۱۷۷ داده به درستی در کلاس اول قرار گرفته اند، ولی در سطر آخر این ستون، ۲۴۰ داده که باید در کلاس ۷ باشند، در کلاس اول قرار داده شده اند.\n",
    "\n",
    "در کل هر سطر نشان دهنده کلاس واقعی و هر ستون نشان دهنده کلاس پیش بینی شده است.\n",
    "\n",
    "حال در ماتریس زیر مقادیر\n",
    "\n",
    "precision در سطر اول\n",
    "\n",
    "recall در سطر دوم\n",
    "\n",
    "f_measure در سطر سوم\n",
    "\n",
    "و جمع هر سطر ماتریس در هم ریختگی بالا در سطر آخر آمده است.\n",
    "\n",
    "در واقع سطر آخر بیان می کند که چند داده در هر کلاس داریم."
   ]
  },
  {
   "cell_type": "code",
   "execution_count": 14,
   "id": "6df26a5d",
   "metadata": {},
   "outputs": [
    {
     "data": {
      "text/plain": [
       "(array([0.96355659, 0.95283563, 0.94148791, 0.9144385 , 0.93996711,\n",
       "        0.93036323, 0.97356608]),\n",
       " array([0.94689388, 0.97219706, 0.96158866, 0.83009709, 0.80266854,\n",
       "        0.88982726, 0.95173086]),\n",
       " array([0.95515257, 0.96241898, 0.95143213, 0.87022901, 0.86590909,\n",
       "        0.90964387, 0.96252465]),\n",
       " array([63552, 84991, 10726,   824,  2848,  5210,  6153], dtype=int64))"
      ]
     },
     "execution_count": 14,
     "metadata": {},
     "output_type": "execute_result"
    }
   ],
   "source": [
    "from sklearn.metrics import precision_recall_fscore_support\n",
    "cost_sensitive_measures = precision_recall_fscore_support(y_test, y_prediction)\n",
    "cost_sensitive_measures"
   ]
  },
  {
   "cell_type": "markdown",
   "id": "1e9a8a3b",
   "metadata": {},
   "source": [
    "در این ماتریس، مثلا برای کلاس اول\n",
    "\n",
    "precision = 0.9635\n",
    "\n",
    "که به این معنا است که ۰.۹۶۳۵ از داده هایی که در کلاس اول پیش بینی شده اند، واقعا مربوط به کلاس اول هستند.\n",
    "\n",
    "کم ترین مقدار recall\n",
    "\n",
    "برای کلاس پنجم است. در واقع بیان می کند که داده های کلاس پنجم به درستی پیش بینی نشده و ۲۰ درصد آنها داخل کلاس های دیگر پیش بینی شده اند."
   ]
  },
  {
   "cell_type": "markdown",
   "id": "ada3ec94",
   "metadata": {},
   "source": [
    "حال داده های یادگیری با همین الگوریتم پیش بینی کرده و دقت پیش بینی را بدست می آوریم.\n",
    "\n",
    "همانگونه که مشخص است و انتظار داشتیم، برازش داده های یادگیری را به درستی پیش بینی می کند و دقت آن ۱ است."
   ]
  },
  {
   "cell_type": "code",
   "execution_count": 15,
   "id": "90f932dc",
   "metadata": {},
   "outputs": [
    {
     "data": {
      "text/plain": [
       "1.0"
      ]
     },
     "execution_count": 15,
     "metadata": {},
     "output_type": "execute_result"
    }
   ],
   "source": [
    "y_train_prediction = RFC.predict(nX_train)\n",
    "\n",
    "acc = accuracy_score(y_train_prediction, y_train)\n",
    "acc"
   ]
  },
  {
   "cell_type": "markdown",
   "id": "3a2d566d",
   "metadata": {},
   "source": [
    "حال ماتریس در هم ریختگی را برای داده های یادگیری می سازیم.\n",
    "\n",
    "همانگونه که انتظار داریم همه کلاس ها به درستی پیش بینی شده اند.\n",
    "\n",
    "از این ماتریس می توان متوجه شد که موقع بر زدن، چه مقدار از هر کلاس وارد داده یادگیری شده اند."
   ]
  },
  {
   "cell_type": "code",
   "execution_count": 16,
   "id": "066af395",
   "metadata": {},
   "outputs": [
    {
     "data": {
      "text/plain": [
       "array([[148288,      0,      0,      0,      0,      0,      0],\n",
       "       [     0, 198310,      0,      0,      0,      0,      0],\n",
       "       [     0,      0,  25028,      0,      0,      0,      0],\n",
       "       [     0,      0,      0,   1923,      0,      0,      0],\n",
       "       [     0,      0,      0,      0,   6645,      0,      0],\n",
       "       [     0,      0,      0,      0,      0,  12157,      0],\n",
       "       [     0,      0,      0,      0,      0,      0,  14357]],\n",
       "      dtype=int64)"
      ]
     },
     "execution_count": 16,
     "metadata": {},
     "output_type": "execute_result"
    }
   ],
   "source": [
    "from sklearn.metrics import confusion_matrix\n",
    "per_metrics = confusion_matrix(y_train, y_train_prediction)\n",
    "per_metrics"
   ]
  },
  {
   "cell_type": "markdown",
   "id": "187879c1",
   "metadata": {},
   "source": [
    "حال در ماتریس زیر\n",
    "\n",
    "precision در سطر اول\n",
    "\n",
    "recall در سطر دوم\n",
    "\n",
    "f_measure در سطر سوم\n",
    "\n",
    "و جمع هر سطر ماتریس در هم ریختگی بالا در سطر آخر آمده است\n",
    "\n",
    "برای داده های یادگیری آمده است\n",
    "\n",
    "در واقع سطر آخر بیان می کند که چند داده در هر کلاس داریم.\n",
    "\n",
    "همانگونه که انتظار داشتیم همه این مقادیر برای همه سطر ها یک شدند، که به این معنی است که همه پیش بینی ها درست بودند."
   ]
  },
  {
   "cell_type": "code",
   "execution_count": 17,
   "id": "b7689abf",
   "metadata": {},
   "outputs": [
    {
     "data": {
      "text/plain": [
       "(array([1., 1., 1., 1., 1., 1., 1.]),\n",
       " array([1., 1., 1., 1., 1., 1., 1.]),\n",
       " array([1., 1., 1., 1., 1., 1., 1.]),\n",
       " array([148288, 198310,  25028,   1923,   6645,  12157,  14357],\n",
       "       dtype=int64))"
      ]
     },
     "execution_count": 17,
     "metadata": {},
     "output_type": "execute_result"
    }
   ],
   "source": [
    "from sklearn.metrics import precision_recall_fscore_support\n",
    "cost_sensitive_measures = precision_recall_fscore_support(y_train, y_train_prediction)\n",
    "cost_sensitive_measures"
   ]
  },
  {
   "cell_type": "markdown",
   "id": "01ff138d",
   "metadata": {},
   "source": [
    "حال به بیان مفهوم مقادیر بالا برای هر کلاس می پردازیم:\n",
    "\n",
    "accuracy:\n",
    "\n",
    "این مقدار بیان می کند که از ۰ تا ۱، چه مقدار برازش و پیش بینی های ما درست بوده. در واقع نشان دهنده میزان درستی تابع بدست آمده براساس متغییر ها برای تشخیص کلاس هر داده است.\n",
    "\n",
    "precision:\n",
    "\n",
    "این مقدار بیان می کند که از ۰ تا ۱، چه مقدار از داده هایی که در آن کلاس پیش بینی شده اند، واقعا عضو آن کلاس هستند.\n",
    "\n",
    "recall:\n",
    "\n",
    "این مقدار بیان می کند که از ۰ تا ۱، چه مقدار از داده های متعلق به هر کلاس، به درستی داخل آن کلاس پیش بینی شده اند."
   ]
  }
 ],
 "metadata": {
  "kernelspec": {
   "display_name": "Python 3 (ipykernel)",
   "language": "python",
   "name": "python3"
  },
  "language_info": {
   "codemirror_mode": {
    "name": "ipython",
    "version": 3
   },
   "file_extension": ".py",
   "mimetype": "text/x-python",
   "name": "python",
   "nbconvert_exporter": "python",
   "pygments_lexer": "ipython3",
   "version": "3.8.6"
  }
 },
 "nbformat": 4,
 "nbformat_minor": 5
}
